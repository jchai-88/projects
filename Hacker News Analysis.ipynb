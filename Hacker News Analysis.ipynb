{
 "cells": [
  {
   "cell_type": "markdown",
   "metadata": {},
   "source": [
    "# Hacker News Post Analysis\n",
    "\n",
    "[Hacker News](https://news.ycombinator.com/) is a site started by the startup incubator Y Combinator where users are able to submit posts, particularly in technology and startup circles. These posts are then voted and commented upon which has a similar concept to reddit.\n",
    "\n",
    "The data set that we'll work with can be found [here](https://www.kaggle.com/hacker-news/hacker-news-posts). It is important to note that this data set has been reduced from almost 300 000 rows to approximately 20 000 rows. This is done by firstly filtering out the summissions that did not receive any comments. Thereafer, random sampling was used to select data from the remaining submissions.\n",
    "\n",
    "In this project we'll analyse the posts whose titles begin with either Ask HN or Show HN. We'll compare these two types of posts to determine the following:\n",
    "- Do Ask HN or Show HN receive more comments on average?\n",
    "- Do posts created at a certain time receive more comments on average?"
   ]
  },
  {
   "cell_type": "markdown",
   "metadata": {},
   "source": [
    "## Introduction\n",
    "\n",
    "Firstly, we'll open and read our data. We'll then store this as a list of lists and display the first 5 rows"
   ]
  },
  {
   "cell_type": "code",
   "execution_count": 78,
   "metadata": {
    "scrolled": true
   },
   "outputs": [
    {
     "name": "stdout",
     "output_type": "stream",
     "text": [
      "[['id', 'title', 'url', 'num_points', 'num_comments', 'author', 'created_at'], ['12224879', 'Interactive Dynamic Video', 'http://www.interactivedynamicvideo.com/', '386', '52', 'ne0phyte', '8/4/2016 11:52'], ['10975351', 'How to Use Open Source and Shut the Fuck Up at the Same Time', 'http://hueniverse.com/2016/01/26/how-to-use-open-source-and-shut-the-fuck-up-at-the-same-time/', '39', '10', 'josep2', '1/26/2016 19:30'], ['11964716', \"Florida DJs May Face Felony for April Fools' Water Joke\", 'http://www.thewire.com/entertainment/2013/04/florida-djs-april-fools-water-joke/63798/', '2', '1', 'vezycash', '6/23/2016 22:20'], ['11919867', 'Technology ventures: From Idea to Enterprise', 'https://www.amazon.com/Technology-Ventures-Enterprise-Thomas-Byers/dp/0073523429', '3', '1', 'hswarna', '6/17/2016 0:01']]\n"
     ]
    }
   ],
   "source": [
    "#Open the file\n",
    "opened_file = open('hacker_news.csv')\n",
    "\n",
    "#Read the file and save as a list of lists\n",
    "from csv import reader\n",
    "read_file = reader(opened_file)\n",
    "hn = list(read_file)\n",
    "\n",
    "#Display the first 5 rows\n",
    "print(hn[:5])"
   ]
  },
  {
   "cell_type": "markdown",
   "metadata": {},
   "source": [
    "## Removing Headers from a List of Lists\n",
    "\n",
    "Next, we'll remove the header row and save it into a separate variable. We'll then display the first 5 rows of data and the header separately."
   ]
  },
  {
   "cell_type": "code",
   "execution_count": 79,
   "metadata": {},
   "outputs": [
    {
     "name": "stdout",
     "output_type": "stream",
     "text": [
      "['id', 'title', 'url', 'num_points', 'num_comments', 'author', 'created_at']\n"
     ]
    },
    {
     "data": {
      "text/plain": [
       "[['12224879',\n",
       "  'Interactive Dynamic Video',\n",
       "  'http://www.interactivedynamicvideo.com/',\n",
       "  '386',\n",
       "  '52',\n",
       "  'ne0phyte',\n",
       "  '8/4/2016 11:52'],\n",
       " ['10975351',\n",
       "  'How to Use Open Source and Shut the Fuck Up at the Same Time',\n",
       "  'http://hueniverse.com/2016/01/26/how-to-use-open-source-and-shut-the-fuck-up-at-the-same-time/',\n",
       "  '39',\n",
       "  '10',\n",
       "  'josep2',\n",
       "  '1/26/2016 19:30'],\n",
       " ['11964716',\n",
       "  \"Florida DJs May Face Felony for April Fools' Water Joke\",\n",
       "  'http://www.thewire.com/entertainment/2013/04/florida-djs-april-fools-water-joke/63798/',\n",
       "  '2',\n",
       "  '1',\n",
       "  'vezycash',\n",
       "  '6/23/2016 22:20'],\n",
       " ['11919867',\n",
       "  'Technology ventures: From Idea to Enterprise',\n",
       "  'https://www.amazon.com/Technology-Ventures-Enterprise-Thomas-Byers/dp/0073523429',\n",
       "  '3',\n",
       "  '1',\n",
       "  'hswarna',\n",
       "  '6/17/2016 0:01'],\n",
       " ['10301696',\n",
       "  'Note by Note: The Making of Steinway L1037 (2007)',\n",
       "  'http://www.nytimes.com/2007/11/07/movies/07stein.html?_r=0',\n",
       "  '8',\n",
       "  '2',\n",
       "  'walterbell',\n",
       "  '9/30/2015 4:12']]"
      ]
     },
     "execution_count": 79,
     "metadata": {},
     "output_type": "execute_result"
    }
   ],
   "source": [
    "header = hn[0]\n",
    "hn = hn[1:]\n",
    "\n",
    "#Display the header\n",
    "print(header)\n",
    "\n",
    "#Display the first 5 rows\n",
    "hn[:5]"
   ]
  },
  {
   "cell_type": "markdown",
   "metadata": {},
   "source": [
    "## Extracting Ask HN and Show HN posts\n",
    "\n",
    "We'll now extract Ask HN and Show HN posts into two separate lists as these are the data we are interested in. We'll also create another list containing other posts. Separating the posts into 3 separate lists will make it easier for us to analyse the data."
   ]
  },
  {
   "cell_type": "code",
   "execution_count": 80,
   "metadata": {},
   "outputs": [
    {
     "name": "stdout",
     "output_type": "stream",
     "text": [
      "No. of Ask HN posts: 1744\n",
      "No. of Show HN posts: 1162\n",
      "No. of other posts: 17194\n"
     ]
    }
   ],
   "source": [
    "# Create empty lists\n",
    "ask_posts = []\n",
    "show_posts = []\n",
    "other_posts = []\n",
    "\n",
    "# Separate posts into their respective list\n",
    "for row in hn:\n",
    "    title = row[1].lower()\n",
    "\n",
    "    if title.startswith('ask hn'):\n",
    "        ask_posts.append(row)\n",
    "    elif title.startswith('show hn'):\n",
    "        show_posts.append(row)\n",
    "    else:\n",
    "        other_posts.append(row)\n",
    "\n",
    "# Display the number of post for each list\n",
    "print('No. of Ask HN posts:', len(ask_posts))\n",
    "print('No. of Show HN posts:', len(show_posts))\n",
    "print('No. of other posts:', len(other_posts))"
   ]
  },
  {
   "cell_type": "markdown",
   "metadata": {},
   "source": [
    "It seems as if the number of *Ask HN* and *Show HN* post is significantly lower than *Other* posts. Let's look at the percentage of these posts."
   ]
  },
  {
   "cell_type": "code",
   "execution_count": 81,
   "metadata": {},
   "outputs": [
    {
     "name": "stdout",
     "output_type": "stream",
     "text": [
      "Percentage Ask HN posts: 0.09\n",
      "Percentage Show HN posts: 0.06\n",
      "Percentage other posts: 0.86\n"
     ]
    }
   ],
   "source": [
    "print('Percentage Ask HN posts:', round(len(ask_posts)/len(hn),2))\n",
    "print('Percentage Show HN posts:', round(len(show_posts)/len(hn),2))\n",
    "print('Percentage other posts:', round(len(other_posts)/len(hn),2))"
   ]
  },
  {
   "cell_type": "markdown",
   "metadata": {},
   "source": [
    "It is interesting to note that the *Ask HN* post and *Show HN* posts only makes up approximately 15% of the total posts on the Hacker News site, when combined."
   ]
  },
  {
   "cell_type": "markdown",
   "metadata": {},
   "source": [
    "## Calculating the Average Number of Comments for Ask HN and Show HN Posts\n",
    "\n",
    "Firstly, we'll calculate the average number of comments for *Ask HN* posts."
   ]
  },
  {
   "cell_type": "code",
   "execution_count": 82,
   "metadata": {},
   "outputs": [
    {
     "name": "stdout",
     "output_type": "stream",
     "text": [
      "Total no. of comments for Ask HN posts: 24483\n",
      "Average no. of comments per Ask HN post: 14.04\n"
     ]
    }
   ],
   "source": [
    "# Initiate variable\n",
    "total_ask_comments = 0\n",
    "\n",
    "# Calculate total number of comments for Ask HN posts\n",
    "for row in ask_posts:\n",
    "    num_comments = int(row[4])\n",
    "    total_ask_comments += num_comments\n",
    "\n",
    "# Calculate the average number of ask comments per post\n",
    "avg_ask_comments = total_ask_comments/len(ask_posts)\n",
    "\n",
    "print('Total no. of comments for Ask HN posts:', total_ask_comments)\n",
    "print('Average no. of comments per Ask HN post:',round(avg_ask_comments, 2))"
   ]
  },
  {
   "cell_type": "markdown",
   "metadata": {},
   "source": [
    "Now, we'll calculate the average number of comments for *Show HN* posts."
   ]
  },
  {
   "cell_type": "code",
   "execution_count": 83,
   "metadata": {},
   "outputs": [
    {
     "name": "stdout",
     "output_type": "stream",
     "text": [
      "Total no. of comments for Show HN posts: 11988\n",
      "Average no. of comments per Show HN post: 10.32\n"
     ]
    }
   ],
   "source": [
    "# Initiate variable\n",
    "total_show_comments = 0\n",
    "\n",
    "# Calculate total number of comments for Ask HN posts\n",
    "for row in show_posts:\n",
    "    num_comments = int(row[4])\n",
    "    total_show_comments += num_comments\n",
    "\n",
    "# Calculate the average number of ask comments per post\n",
    "avg_show_comments = total_show_comments/len(show_posts)\n",
    "\n",
    "print('Total no. of comments for Show HN posts:', total_show_comments)\n",
    "print('Average no. of comments per Show HN post:',round(avg_show_comments, 2))"
   ]
  },
  {
   "cell_type": "markdown",
   "metadata": {},
   "source": [
    "From our calculations, we can see that *Ask HN* posts have an average of 14 comments per post while *Show HN* posts have an average of 10 comments per post. Therefore, users are slightly more interested in commenting on *Ask HN* posts compared to *Show HN* posts. \n",
    "\n",
    "Since this is the case, we'll focus our remaining analysis on *Ask HN* posts."
   ]
  },
  {
   "cell_type": "markdown",
   "metadata": {},
   "source": [
    "## Do Posts Created at a Certain Time Attract More Comments?\n",
    "\n",
    "In the next step in our analysis, we want to determine if posts created at a certain time of the day have an effect on the number of comments receive. We'll use the following steps to perform our analysis:\n",
    "1. Calculate the amount of ask posts created in each hour of the day, along with the number of comments received.\n",
    "2. Calculate the average number of comments ask posts receive by hour created."
   ]
  },
  {
   "cell_type": "markdown",
   "metadata": {},
   "source": [
    "### Finding the Amount of Ask Posts and Comments by Hour Created\n",
    "\n",
    "We'll firstly look into calculating the amount of ask posts and comments by hour created. We'll be using the `datetime` module in our code."
   ]
  },
  {
   "cell_type": "code",
   "execution_count": 101,
   "metadata": {},
   "outputs": [
    {
     "data": {
      "text/plain": [
       "{'09': 251,\n",
       " '13': 1253,\n",
       " '10': 793,\n",
       " '14': 1416,\n",
       " '16': 1814,\n",
       " '23': 543,\n",
       " '12': 687,\n",
       " '17': 1146,\n",
       " '15': 4477,\n",
       " '21': 1745,\n",
       " '20': 1722,\n",
       " '02': 1381,\n",
       " '18': 1439,\n",
       " '03': 421,\n",
       " '05': 464,\n",
       " '19': 1188,\n",
       " '01': 683,\n",
       " '22': 479,\n",
       " '08': 492,\n",
       " '04': 337,\n",
       " '00': 447,\n",
       " '06': 397,\n",
       " '07': 267,\n",
       " '11': 641}"
      ]
     },
     "execution_count": 101,
     "metadata": {},
     "output_type": "execute_result"
    }
   ],
   "source": [
    "# Import module\n",
    "import datetime as dt\n",
    "\n",
    "# Initialise list\n",
    "result_list = []\n",
    "\n",
    "# Create a list of lists with two elements (creation date and time, no. of comments)\n",
    "for row in ask_posts:\n",
    "    created_at = row[6]\n",
    "    no_comments = row[4]\n",
    "    \n",
    "    result_list.append([created_at, no_comments])\n",
    "    \n",
    "# Initialise dictionaries\n",
    "counts_by_hour = {}\n",
    "comments_by_hour = {}\n",
    "\n",
    "# Create two frequency tables with no. of posts per hour and no. of comments per hour respectively\n",
    "for row in result_list:\n",
    "    date_n_time_str = row[0]\n",
    "    no_comments = int(row[1]) # Convert str to int as we'll be adding all the no_comments\n",
    "    \n",
    "    date_n_time_obj = dt.datetime.strptime(date_n_time_str, \"%m/%d/%Y %H:%M\") # Parsing string\n",
    "    hour_str = date_n_time_obj.strftime(\"%H\") # Formating object\n",
    "    \n",
    "    if hour_str not in counts_by_hour:\n",
    "        counts_by_hour[hour_str] = 1\n",
    "        comments_by_hour[hour_str] = no_comments\n",
    "    else:\n",
    "        counts_by_hour[hour_str] += 1\n",
    "        comments_by_hour[hour_str] += no_comments\n",
    "        \n",
    "comments_by_hour"
   ]
  },
  {
   "cell_type": "markdown",
   "metadata": {},
   "source": [
    "### Calculating the Average Number of Comments for Ask HN Post by Hour\n",
    "\n",
    "Now, we'll use the information above to calculate the average number of comments per Ask HN post by hour."
   ]
  },
  {
   "cell_type": "code",
   "execution_count": 102,
   "metadata": {},
   "outputs": [
    {
     "data": {
      "text/plain": [
       "[['09', 5.5777777777777775],\n",
       " ['13', 14.741176470588234],\n",
       " ['10', 13.440677966101696],\n",
       " ['14', 13.233644859813085],\n",
       " ['16', 16.796296296296298],\n",
       " ['23', 7.985294117647059],\n",
       " ['12', 9.41095890410959],\n",
       " ['17', 11.46],\n",
       " ['15', 38.5948275862069],\n",
       " ['21', 16.009174311926607],\n",
       " ['20', 21.525],\n",
       " ['02', 23.810344827586206],\n",
       " ['18', 13.20183486238532],\n",
       " ['03', 7.796296296296297],\n",
       " ['05', 10.08695652173913],\n",
       " ['19', 10.8],\n",
       " ['01', 11.383333333333333],\n",
       " ['22', 6.746478873239437],\n",
       " ['08', 10.25],\n",
       " ['04', 7.170212765957447],\n",
       " ['00', 8.127272727272727],\n",
       " ['06', 9.022727272727273],\n",
       " ['07', 7.852941176470588],\n",
       " ['11', 11.051724137931034]]"
      ]
     },
     "execution_count": 102,
     "metadata": {},
     "output_type": "execute_result"
    }
   ],
   "source": [
    "# Initialise dictionary\n",
    "avg_by_hour = []\n",
    "\n",
    "# Calculate the average number of comments per post by hour\n",
    "for hour, posts in counts_by_hour.items():\n",
    "    avg_by_hour.append([hour, int(comments_by_hour[hour])/posts])\n",
    "\n",
    "# Display average number of comments per post by hour\n",
    "avg_by_hour"
   ]
  },
  {
   "cell_type": "markdown",
   "metadata": {},
   "source": [
    "We can see from the results above that the minimum number of comments per post is approximately 6 and the maximum number of comments per post is approximately 39, which is a wide range."
   ]
  },
  {
   "cell_type": "markdown",
   "metadata": {},
   "source": [
    "### Sorting and Printing Values from a List of Lists\n",
    "\n",
    "\n",
    "To analyse this data further, we'll be sorting the list by hour to make it clearer for us to see if there is a correlation between the number of comments per post and the time of the day."
   ]
  },
  {
   "cell_type": "code",
   "execution_count": 110,
   "metadata": {},
   "outputs": [
    {
     "name": "stdout",
     "output_type": "stream",
     "text": [
      "[[5.5777777777777775, '09'], [14.741176470588234, '13'], [13.440677966101696, '10'], [13.233644859813085, '14'], [16.796296296296298, '16'], [7.985294117647059, '23'], [9.41095890410959, '12'], [11.46, '17'], [38.5948275862069, '15'], [16.009174311926607, '21'], [21.525, '20'], [23.810344827586206, '02'], [13.20183486238532, '18'], [7.796296296296297, '03'], [10.08695652173913, '05'], [10.8, '19'], [11.383333333333333, '01'], [6.746478873239437, '22'], [10.25, '08'], [7.170212765957447, '04'], [8.127272727272727, '00'], [9.022727272727273, '06'], [7.852941176470588, '07'], [11.051724137931034, '11']]\n"
     ]
    }
   ],
   "source": [
    "# Initialising list\n",
    "swap_avg_by_hour = []\n",
    "\n",
    "# Swap columns\n",
    "for row in avg_by_hour:\n",
    "    swap_avg_by_hour.append([row[1], row[0]])\n",
    "\n",
    "# Display list\n",
    "print(swap_avg_by_hour)\n",
    "\n",
    "# Sort list by highest number of comments\n",
    "sorted_swap = sorted(swap_avg_by_hour, reverse = True)"
   ]
  },
  {
   "cell_type": "markdown",
   "metadata": {},
   "source": [
    "**Top 5 Hours for Ask Posts Comments**"
   ]
  },
  {
   "cell_type": "code",
   "execution_count": 119,
   "metadata": {},
   "outputs": [
    {
     "name": "stdout",
     "output_type": "stream",
     "text": [
      "Top 5 Hours for Ask Posts Comments\n",
      "15:00: 38.59 average comments per post.\n",
      "02:00: 23.81 average comments per post.\n",
      "20:00: 21.52 average comments per post.\n",
      "16:00: 16.80 average comments per post.\n",
      "21:00: 16.01 average comments per post.\n"
     ]
    }
   ],
   "source": [
    "# Display Top 5 Hours for Ask Posts Comments\n",
    "print(\"Top 5 Hours for Ask Posts Comments\")\n",
    "\n",
    "template = \"{h}:00: {c:.2f} average comments per post.\"\n",
    "for row in sorted_swap[:5]:\n",
    "    print(template.format(h = row[1], c = row[0]))"
   ]
  },
  {
   "cell_type": "markdown",
   "metadata": {},
   "source": [
    "From our results above, we can see that the best time to create a post to get the most number of comments is at 3 pm. Posts that are created at 2 am and 8 pm will get a bit over half the number of comments. Meanwhile, posts created at 4 pm and 9 pm will get less than half of the number of comments. \n",
    "\n",
    "However, as users are posting comments from all over the world, it is important to note what timezone is used in this dataset. According to this [documentation](https://www.kaggle.com/hacker-news/hacker-news-posts/home), Eastern Time in the US is used. \n",
    "\n",
    "Therefore, if I were to create a post while in St. Louis MO to attract the most number of comments, I would do it at 2 pm cst (3 pm est)."
   ]
  },
  {
   "cell_type": "markdown",
   "metadata": {},
   "source": [
    "**Best Time of Day to Post to Attract Most Comments**\n",
    "\n",
    "Next, we'll look into when is the best time of day (morning, afternoon, evening, late night/early morning) to post Ask HN posts to get most comments. We'll be breaking up 24 hours into 6 hours for each time of day.\n",
    "- Morning: 6 am to 12 pm\n",
    "- Afternoon: 12 pm to 6 pm\n",
    "- Evening: 6 pm to 12 am\n",
    "- Late Night/Early Morning: 12 am - 6 am"
   ]
  },
  {
   "cell_type": "code",
   "execution_count": 133,
   "metadata": {},
   "outputs": [
    {
     "data": {
      "text/plain": [
       "{'Morning': 57.195848331008364,\n",
       " 'Afternoon': 104.23690411701412,\n",
       " 'Evening': 76.26778216519843,\n",
       " 'Late Night/Early Morning': 68.37441647218513}"
      ]
     },
     "execution_count": 133,
     "metadata": {},
     "output_type": "execute_result"
    }
   ],
   "source": [
    "# Initialising dictionary\n",
    "comments_by_time = {'Morning':0, 'Afternoon':0, 'Evening':0, 'Late Night/Early Morning':0}\n",
    "\n",
    "# Sort list by time of day\n",
    "sorted_avg_per_hour = sorted(avg_by_hour)\n",
    "\n",
    "# Grouping comments into time of day\n",
    "for row in sorted_avg_per_hour:\n",
    "    row[0] = int(row[0])\n",
    "    \n",
    "    if row[0] >= 0 and row[0] < 6:\n",
    "        comments_by_time['Late Night/Early Morning'] += row[1]    \n",
    "    \n",
    "    elif row[0] >= 6 and row[0] < 12:\n",
    "        comments_by_time['Morning'] += row[1]\n",
    "        \n",
    "    elif row[0] >= 12 and row[0] < 18:\n",
    "        comments_by_time['Afternoon'] += row[1]\n",
    "    \n",
    "    elif row[0] >= 18 and row[0] <= 23:\n",
    "        comments_by_time['Evening'] += row[1]\n",
    "    else:\n",
    "        print(\"Error\")\n",
    "        \n",
    "comments_by_time\n"
   ]
  },
  {
   "cell_type": "markdown",
   "metadata": {},
   "source": [
    "The best time of day to attract most comments for a post is during the afternoon. The worst time of day to attract comments is during the morning which only gets about half the number of comments. This might be due to the fact that people are generally more productive/focused with schoolwork/work in the morning and do not have time to surf the web to comment on posts."
   ]
  },
  {
   "cell_type": "markdown",
   "metadata": {},
   "source": [
    "## Do Show Posts or Ask Posts Receive More Points on Average?\n",
    "\n",
    "The total number of points for a post is the difference in the total number of upvotes and downvotes. We'll be investigating to see if *Show HN* posts or *Ask HN* posts receive more points on average."
   ]
  },
  {
   "cell_type": "code",
   "execution_count": 143,
   "metadata": {},
   "outputs": [
    {
     "name": "stdout",
     "output_type": "stream",
     "text": [
      "Average points per Show HN posts: 27.56\n",
      "Average points per Ask HN posts: 15.06\n"
     ]
    }
   ],
   "source": [
    "# Initiate variables\n",
    "total_show_points = 0\n",
    "total_ask_points = 0\n",
    "\n",
    "for row in show_posts:\n",
    "    points = int(row[3])\n",
    "    total_show_points += points\n",
    "    \n",
    "for row in ask_posts:\n",
    "    points = int(row[3])\n",
    "    total_ask_points += points\n",
    "    \n",
    "avg_show_points = total_show_points/len(show_posts)\n",
    "avg_ask_points = total_ask_points/len(ask_posts)\n",
    "\n",
    "print(\"Average points per Show HN posts:\", round(avg_show_points, 2))\n",
    "print(\"Average points per Ask HN posts:\", round(avg_ask_points, 2))"
   ]
  },
  {
   "cell_type": "markdown",
   "metadata": {},
   "source": [
    "It can be seen that Show HN posts receive approximately 50% more points then Ask HN posts. Show HN posts might be more popular that Ask HN posts because the post might be sharing something new that sparks other users' interest."
   ]
  },
  {
   "cell_type": "markdown",
   "metadata": {},
   "source": [
    "## Conclusion\n",
    "To summarize, firstly in this project we analysed *Ask HN* posts and *Show HN* posts to determine which type of post receive the highest number of comments on average. We found that *Ask HN* posts received a greater number of comments on average so we decided investigate further into *Ask HN* posts.\n",
    "\n",
    "Through our results, we found that the best hour to create a post that'll receive the most number of comments on average is at 3 pm est. If that is not achievable, the best time of day to create a post is in the afternoon from 12pm est to 6pm est.\n",
    "\n",
    "Lastly, we also noted that Show HN posts are more popular/liked by users."
   ]
  },
  {
   "cell_type": "code",
   "execution_count": null,
   "metadata": {},
   "outputs": [],
   "source": []
  }
 ],
 "metadata": {
  "kernelspec": {
   "display_name": "Python 3",
   "language": "python",
   "name": "python3"
  },
  "language_info": {
   "codemirror_mode": {
    "name": "ipython",
    "version": 3
   },
   "file_extension": ".py",
   "mimetype": "text/x-python",
   "name": "python",
   "nbconvert_exporter": "python",
   "pygments_lexer": "ipython3",
   "version": "3.7.4"
  }
 },
 "nbformat": 4,
 "nbformat_minor": 2
}
